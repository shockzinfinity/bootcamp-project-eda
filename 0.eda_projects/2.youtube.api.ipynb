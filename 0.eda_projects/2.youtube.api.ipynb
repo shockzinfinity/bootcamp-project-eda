{
 "cells": [
  {
   "cell_type": "code",
   "execution_count": null,
   "metadata": {},
   "outputs": [],
   "source": [
    "# 노트북에서 모듈 자동 리로드 되게 하기 위해 다음을 설정한다.\n",
    "%load_ext autoreload\n",
    "%autoreload 2"
   ]
  },
  {
   "cell_type": "code",
   "execution_count": null,
   "metadata": {},
   "outputs": [],
   "source": [
    "from dotenv import load_dotenv\n",
    "import os\n",
    "import json\n",
    "import pandas as pd\n",
    "import numpy as np\n",
    "from urllib import parse\n",
    "import requests\n",
    "from youtubeapi import YoutubeApi\n",
    "from utils import *\n",
    "from bs4 import BeautifulSoup\n",
    "\n",
    "\n",
    "load_dotenv()\n",
    "apiKey = os.environ.get('YoutubeApiToken')\n",
    "\n",
    "api = YoutubeApi(apiKey)\n",
    "\n",
    "searchQuery = 'EBS 컬렉션 - 라이프스타일'"
   ]
  },
  {
   "cell_type": "code",
   "execution_count": null,
   "metadata": {},
   "outputs": [],
   "source": [
    "%pip install bs4"
   ]
  },
  {
   "cell_type": "code",
   "execution_count": null,
   "metadata": {},
   "outputs": [],
   "source": [
    "count = 10 # 상위 10개 검색\n",
    "\n",
    "res = requests.get('https://youtube-rank.com/board/bbs/board.php?bo_table=youtube&sca=%EA%B5%AD%EB%82%B4/%ED%95%B4%EC%99%B8/%EC%97%AC%ED%96%89')\n",
    "soup = BeautifulSoup(res.content, 'html.parser')\n",
    "temp = soup.select('#list-skin table tbody tr h1 a')\n",
    "\n",
    "channel_list = [temp[i].get_text().strip() for i in range(count)]\n",
    "print(channel_list)\n",
    "query = f\"search?part=id,snippet&key={apiKey}&type=channel&q={searchQuery}\"\n",
    "\n",
    "url = 'https://youtube.googleapis.com/youtube/v3/'\n",
    "res = requests.get(url + query)\n",
    "print(res.text)"
   ]
  },
  {
   "cell_type": "code",
   "execution_count": null,
   "metadata": {},
   "outputs": [],
   "source": [
    "id = api.search_channel_id_by(searchQuery)\n",
    "print(id)"
   ]
  },
  {
   "cell_type": "code",
   "execution_count": null,
   "metadata": {},
   "outputs": [],
   "source": [
    "stat = api.get_statistics_by('UCsLoTwOpElvEixfF1-O90rA')\n",
    "print(temp)"
   ]
  },
  {
   "cell_type": "code",
   "execution_count": null,
   "metadata": {},
   "outputs": [],
   "source": [
    "# search query\n",
    "\n",
    "search = f'search?part=snippet&maxResults=10&type=video&key={apiKey}&q={parse.quote(searchQuery)}'\n",
    "\n",
    "res = requests.get(url + search)\n",
    "print(res.text)"
   ]
  },
  {
   "cell_type": "code",
   "execution_count": null,
   "metadata": {},
   "outputs": [],
   "source": [
    "# video detail query\n",
    "videoId = 'TBRQsHOjWgs'\n",
    "\n",
    "videoQuery = f\"videos?part=statistics&maxResults=1&key={apiKey}&id={parse.quote(videoId)}\"\n",
    "\n",
    "res = requests.get(url +  videoQuery)\n",
    "print(res.text)\n",
    "text = json.loads(res.text)\n",
    "# print(text)\n",
    "stat = text['items'][0]['statistics']\n",
    "df = pd.json_normalize(stat)\n",
    "df.insert(0, 'videoId', text['items'][0]['id'])\n",
    "df"
   ]
  },
  {
   "cell_type": "code",
   "execution_count": null,
   "metadata": {},
   "outputs": [],
   "source": [
    "# video comment list query\n",
    "\n",
    "videoId = 'TBRQsHOjWgs'\n",
    "detailQuery = f\"commentThreads?part=snippet&maxResults=1&key={apiKey}&videoId={parse.quote(videoId)}\"\n",
    "\n",
    "res = requests.get(url +  detailQuery)\n",
    "print(res.text)\n",
    "text = json.loads(res.text)\n",
    "# data = pd.DataFrame(text)\n",
    "print(text['items'])"
   ]
  },
  {
   "cell_type": "code",
   "execution_count": null,
   "metadata": {},
   "outputs": [],
   "source": []
  }
 ],
 "metadata": {
  "kernelspec": {
   "display_name": "Python 3",
   "language": "python",
   "name": "python3"
  },
  "language_info": {
   "codemirror_mode": {
    "name": "ipython",
    "version": 3
   },
   "file_extension": ".py",
   "mimetype": "text/x-python",
   "name": "python",
   "nbconvert_exporter": "python",
   "pygments_lexer": "ipython3",
   "version": "3.10.12"
  },
  "orig_nbformat": 4
 },
 "nbformat": 4,
 "nbformat_minor": 2
}
