{
 "cells": [
  {
   "cell_type": "code",
   "execution_count": null,
   "metadata": {},
   "outputs": [],
   "source": [
    "%load_ext autoreload\n",
    "%autoreload 2"
   ]
  },
  {
   "cell_type": "code",
   "execution_count": null,
   "metadata": {},
   "outputs": [],
   "source": [
    "# data columns\n",
    "\n",
    "# videoId,\n",
    "# title,\n",
    "# description,\n",
    "# tags,\n",
    "# viewCount,\n",
    "# likeCount,\n",
    "# favoriteCount,\n",
    "# commentCount,\n",
    "# publishedAt,\n",
    "# channelId,\n",
    "# channelTitle,\n",
    "# country\n",
    "\n",
    "use_columns = ['videoId', 'title', 'description', 'tags', 'viewCount', 'likeCount', 'favoriteCount', 'commentCount', 'publishedAt', 'channelId', 'channelTitle', 'country']\n"
   ]
  },
  {
   "cell_type": "code",
   "execution_count": null,
   "metadata": {},
   "outputs": [],
   "source": [
    "from dotenv import load_dotenv\n",
    "import os\n",
    "import sys\n",
    "import pandas as pd\n",
    "import numpy as np\n",
    "from youtubeapi import YoutubeApi\n",
    "import matplotlib.pyplot as plt\n",
    "import seaborn as sns\n",
    "import matplotlib\n",
    "import matplotlib.font_manager as fm\n",
    "sys.path.append('../refs/')\n",
    "from utils import Utils\n",
    "\n",
    "# font setting\n",
    "font_location = 'C:/Windows/Fonts/Malgun.ttf' if sys.platform == 'win32' else '/System/Library/Fonts/AppleSDGothicNeo.ttc'\n",
    "font_name = fm.FontProperties(fname=font_location).get_name()\n",
    "# print(font_name)\n",
    "matplotlib.rc('font', family=font_name)\n",
    "\n",
    "load_dotenv()\n",
    "apiKey = os.environ.get('YoutubeApiToken')\n",
    "url = 'https://youtube.googleapis.com/youtube/v3/'\n",
    "\n",
    "api = YoutubeApi(apiKey, use_columns)\n",
    "\n",
    "searchQuery = '코이티비 베트남'\n",
    "# maxResults = 15"
   ]
  },
  {
   "cell_type": "code",
   "execution_count": null,
   "metadata": {},
   "outputs": [],
   "source": [
    "datas = api.search_videos(searchQuery)\n",
    "df = api.get_video_dataframe(datas, '베트남')\n",
    "df"
   ]
  },
  {
   "cell_type": "code",
   "execution_count": null,
   "metadata": {},
   "outputs": [],
   "source": [
    "df.info()"
   ]
  },
  {
   "cell_type": "code",
   "execution_count": null,
   "metadata": {},
   "outputs": [],
   "source": [
    "df.to_csv('../data/vietnam_youtube.csv', encoding='utf-8', index=False)"
   ]
  },
  {
   "cell_type": "code",
   "execution_count": null,
   "metadata": {},
   "outputs": [],
   "source": [
    "asia_data = pd.read_csv('../data/asia_data_kor.csv')\n",
    "asia_data['Year'].fillna(method='ffill', inplace=True)\n",
    "asia_data"
   ]
  },
  {
   "cell_type": "code",
   "execution_count": null,
   "metadata": {},
   "outputs": [],
   "source": [
    "year = df.loc[0, 'publishedAtYear']\n",
    "month = df.loc[0, 'publishedAtMonth']\n",
    "\n",
    "display(year, month)"
   ]
  },
  {
   "cell_type": "code",
   "execution_count": null,
   "metadata": {},
   "outputs": [],
   "source": [
    "# 해당 동영상 년/월 의 방문자 수\n",
    "masking = (asia_data['Year'] == (str(year) + '년')) & (asia_data['month'] == (str(month) + '월'))\n",
    "published_asia_data = asia_data[masking]\n",
    "display(published_asia_data)\n",
    "\n",
    "# 해당 동영상 1년 전/후 의 방문자 수\n",
    "prev_masking = (asia_data['Year'] == (str(year - 1) + '년')) & (asia_data['month'] == (str(month) + '월'))\n",
    "prev_asia_data = asia_data[prev_masking]\n",
    "display(prev_asia_data)\n",
    "\n",
    "next_masking = (asia_data['Year'] == (str(year + 1) + '년')) & (asia_data['month'] == (str(month) + '월'))\n",
    "next_asia_data = asia_data[next_masking]\n",
    "display(next_asia_data)\n"
   ]
  },
  {
   "cell_type": "code",
   "execution_count": null,
   "metadata": {},
   "outputs": [],
   "source": [
    "published_asia_data.index.values[0]"
   ]
  },
  {
   "cell_type": "code",
   "execution_count": null,
   "metadata": {},
   "outputs": [],
   "source": [
    "idx_pub = published_asia_data.index.values[0]\n",
    "prev_idx = prev_asia_data.index.values[0]\n",
    "next_idx = next_asia_data.index.values[0]\n",
    "\n",
    "# prev_period = asia_data.iloc[prev_idx:idx_pub+1, :]\n",
    "prev_period = asia_data.loc[prev_idx:idx_pub+1, ['Year', 'month', '베트남_명수']]\n",
    "display(prev_period)\n",
    "# next_period = asia_data.iloc[idx_pub:next_idx+1, :]\n",
    "next_period = asia_data.loc[idx_pub:next_idx+1, ['Year', 'month', '베트남_명수']]\n",
    "display(next_period)\n"
   ]
  },
  {
   "cell_type": "code",
   "execution_count": null,
   "metadata": {},
   "outputs": [],
   "source": [
    "prev_period['date'] = prev_period['Year'] + prev_period['month']\n",
    "next_period['date'] = next_period['Year'] + next_period['month']"
   ]
  },
  {
   "cell_type": "code",
   "execution_count": null,
   "metadata": {},
   "outputs": [],
   "source": [
    "date = str(year) + '년' + str(month) + '월'\n",
    "date"
   ]
  },
  {
   "cell_type": "code",
   "execution_count": null,
   "metadata": {},
   "outputs": [],
   "source": [
    "sns.barplot(data = prev_period, x='date', y='베트남_명수', edgecolor=['b' if x == date else 'w' for x in prev_period['date']])\n",
    "plt.xlabel('방문 시기')\n",
    "plt.ylabel('방문객 수')\n",
    "plt.title('코이티비 베트남 유튜브 영상 전/후 방문객 수 비교', pad=10, fontweight='bold')\n",
    "plt.xticks(rotation=45)\n",
    "plt.tight_layout()\n",
    "\n",
    "plt.savefig('배트남 방문객 증감_prev.png')\n",
    "plt.show()\n"
   ]
  },
  {
   "cell_type": "code",
   "execution_count": null,
   "metadata": {},
   "outputs": [],
   "source": [
    "sns.barplot(data = next_period, x='date', y='베트남_명수', edgecolor=['b' if x == date else 'w' for x in next_period['date']])\n",
    "plt.xlabel('방문 시기')\n",
    "plt.ylabel('방문객 수')\n",
    "plt.title('코이티비 베트남 유튜브 영상 전/후 방문객 수 비교', pad=10, fontweight='bold')\n",
    "plt.xticks(rotation=45)\n",
    "plt.tight_layout()\n",
    "\n",
    "plt.savefig('배트남 방문객 증감_next.png')\n",
    "plt.show()"
   ]
  },
  {
   "cell_type": "code",
   "execution_count": null,
   "metadata": {},
   "outputs": [],
   "source": [
    "total = pd.concat([prev_period, next_period[2:]])\n",
    "total\n",
    "\n",
    "sns.barplot(data = total, x='date', y='베트남_명수', edgecolor=['b' if x == date else 'w' for x in total['date']])\n",
    "plt.xlabel('방문 시기')\n",
    "plt.ylabel('방문객 수')\n",
    "plt.title('코이티비 베트남 유튜브 영상 전/후 방문객 수 비교', pad=10, fontweight='bold')\n",
    "plt.xticks(rotation=45)\n",
    "plt.tight_layout()\n",
    "\n",
    "plt.savefig('배트남 방문객 증감_total.png')\n",
    "plt.show()"
   ]
  },
  {
   "cell_type": "code",
   "execution_count": null,
   "metadata": {},
   "outputs": [],
   "source": [
    "# '전년대비' 컬럼 drop\n",
    "df_asia_count = asia_data.drop(asia_data.columns[asia_data.columns.str.contains('전년대비')], axis=1)\n",
    "df_asia_count = df_asia_count[df_asia_count.month == '누계']\n",
    "df_asia_count\n",
    "# df_asia_count.T"
   ]
  },
  {
   "cell_type": "code",
   "execution_count": null,
   "metadata": {},
   "outputs": [],
   "source": [
    "df_asia_count['일본_명수'].sum()"
   ]
  },
  {
   "cell_type": "code",
   "execution_count": null,
   "metadata": {},
   "outputs": [],
   "source": [
    "df_asia_count2 = df_asia_count.drop(columns='month').T.reset_index()\n",
    "df_asia_count2.columns = df_asia_count2.iloc[0]\n",
    "df_asia_count2 = df_asia_count2.iloc[1:].reset_index(drop=True)\n",
    "df_asia_count2['Year'] = df_asia_count2['Year'].str.replace(\"_명수\", \"\")\n",
    "df_asia_count2 = df_asia_count2.rename({'Year': 'country'}, axis=1)\n",
    "df_asia_count2"
   ]
  },
  {
   "cell_type": "code",
   "execution_count": null,
   "metadata": {},
   "outputs": [],
   "source": [
    "# NaN 제거\n",
    "# df_asia_count2.info()\n",
    "# df_asia_count2[df_asia_count2.isnull().any(axis=1)]\n",
    "# df_asia_count2 = df_asia_count2.fillna(0)\n",
    "# df_asia_count2.columns == 'country'\n",
    "\n",
    "country = df_asia_count2['country']\n",
    "df_asia_count2 = df_asia_count2.fillna(0)\n",
    "df_asia_count2 = df_asia_count2.loc[:, ~(df_asia_count2.columns == 'country')].replace('-', 0).astype('int64')\n",
    "df_asia_count2.insert(0, 'country', country)\n",
    "df_asia_count2['Sum'] = df_asia_count2.loc[:, ~(df_asia_count2.columns == 'country')].sum(axis=1)\n",
    "df_asia_count2 = df_asia_count2.loc[1:,].reset_index(drop=True)\n",
    "df_asia_count2"
   ]
  },
  {
   "cell_type": "code",
   "execution_count": null,
   "metadata": {},
   "outputs": [],
   "source": [
    "plt.figure(figsize=(15, 8))\n",
    "\n",
    "sns.barplot(data=df_asia_count2, x='country', y='Sum')\n",
    "plt.xlabel('국가')\n",
    "plt.ylabel('누적 방문객 수 (만 명)')\n",
    "plt.title('아시아 국가 별 누적 방문객 수', pad=10, fontweight='bold')\n",
    "plt.xticks(rotation=45)\n",
    "plt.tight_layout()\n",
    "\n",
    "plt.savefig('아시아 국가 별 누적 방문객 수.png')\n",
    "plt.show()"
   ]
  },
  {
   "cell_type": "code",
   "execution_count": null,
   "metadata": {},
   "outputs": [],
   "source": [
    "vietnam_youtube['viewCount'].idxmax()\n",
    "vietnam_youtube['viewCount'].idxmin()"
   ]
  },
  {
   "cell_type": "code",
   "execution_count": null,
   "metadata": {},
   "outputs": [],
   "source": [
    "# 코로나 종료로 볼 수 있는 국가 리스트\n",
    "# 격리 면제를 기준으로 산출\n",
    "# - 일본 → '2022.9.7'\n",
    "# - 대만 → '2022.10.13'\n",
    "# - 홍콩 → '2022.9.26'\n",
    "# - 필리핀 → '2022.2.10'\n",
    "# - 베트남 → '2022.5.15'\n",
    "# - 태국 → '2022.9.3'\n",
    "\n",
    "exit_covid_country = {\n",
    "  \"국가명\" : ['일본', '대만', '홍콩', '필리핀', '베트남', '태국'],\n",
    "  \"해제일\" : ['2022.9.7', '2022.10.13', '2022.9.26', '2022.2.10', '2022.5.15', '2022.9.3']\n",
    "}\n",
    "\n",
    "exit_covid = pd.DataFrame(exit_covid_country)\n",
    "exit_covid['해제일'] = pd.to_datetime(exit_covid['해제일'])\n",
    "# for Linux '#' is replaced by '-' -> %-m : test 필요\n",
    "# exit_covid['year_month'] = exit_covid['해제일'].dt.strftime('%Y년%#m월')\n",
    "exit_covid['year'] = exit_covid['해제일'].dt.year\n",
    "exit_covid['month'] = exit_covid['해제일'].dt.month\n",
    "\n",
    "exit_covid.to_csv('../data/exit_covid.csv', encoding='utf-8-sig')\n",
    "exit_covid"
   ]
  },
  {
   "cell_type": "code",
   "execution_count": null,
   "metadata": {},
   "outputs": [],
   "source": [
    "# asia 데이터\n",
    "asia_data = pd.read_csv('../data/asia_data_kor.csv')\n",
    "asia_data['Year'].fillna(method='ffill', inplace=True)"
   ]
  },
  {
   "cell_type": "code",
   "execution_count": null,
   "metadata": {},
   "outputs": [],
   "source": [
    "# 누계 제거\n",
    "asia_data = asia_data.drop(asia_data[asia_data['month'].values == '누계'].index)\n",
    "asia_data"
   ]
  },
  {
   "cell_type": "code",
   "execution_count": null,
   "metadata": {},
   "outputs": [],
   "source": [
    "# 베트남 해제 시기 추출\n",
    "year = int(exit_covid.loc[exit_covid['국가명'] == '베트남']['year'])\n",
    "month = int(exit_covid.loc[exit_covid['국가명'] == '베트남']['month'])"
   ]
  },
  {
   "cell_type": "code",
   "execution_count": null,
   "metadata": {},
   "outputs": [],
   "source": [
    "# 2018 년 부터 2019 년 까지\n",
    "prev_start_idx = asia_data[(asia_data['Year'] == f'{2018}년') & (asia_data['month'] == f'{month + 1}월')].index.values[0]\n",
    "prev_end_idx = asia_data[(asia_data['Year'] == f'{2019}년') & (asia_data['month'] == f'{month}월')].index.values[0]\n",
    "# display(prev_start_idx, prev_end_idx)\n",
    "\n",
    "# 베트남 == 8 \n",
    "# asia_data.iloc[prev_start_idx:prev_end_idx + 1, 8]\n",
    "vietnam_prev_covid = asia_data.iloc[prev_start_idx:prev_end_idx + 1]\n",
    "vietnam_prev_covid['date'] = vietnam_prev_covid['Year'] + vietnam_prev_covid['month']\n",
    "vietnam_prev_covid"
   ]
  },
  {
   "cell_type": "code",
   "execution_count": null,
   "metadata": {},
   "outputs": [],
   "source": [
    "# exit_covid 이후 데이터\n",
    "# 베트남 : 2022년 5월 ~ 2023년 4월\n",
    "next_start_idx = asia_data[(asia_data['Year'] == f'{year}년') & (asia_data['month'] == f'{month}월')].index.values[0]\n",
    "next_end_idx = asia_data[(asia_data['Year'] == f'{year + 1}년') & (asia_data['month'] == f'{month - 1}월')].index.values[0]\n",
    "\n",
    "# 베트남 == 8\n",
    "# asia_data.iloc[next_start_idx:next_end_idx + 1, 8]\n",
    "vietnam_next_covid = asia_data.iloc[next_start_idx:next_end_idx + 1]\n",
    "vietnam_next_covid.loc[vietnam_next_covid['베트남_명수'].isna(), '베트남_명수'] = 0\n",
    "vietnam_next_covid['date'] = vietnam_next_covid['Year'] + vietnam_next_covid['month']\n",
    "vietnam_next_covid"
   ]
  },
  {
   "cell_type": "code",
   "execution_count": null,
   "metadata": {},
   "outputs": [],
   "source": [
    "sns.barplot(data = vietnam_prev_covid, x='date', y='베트남_명수')\n",
    "plt.xlabel('월별')\n",
    "plt.ylabel('방문객 수')\n",
    "plt.title('코로나 전/후 방문객 수 비교', pad=10, fontweight='bold')\n",
    "plt.xticks(rotation=45)\n",
    "plt.tight_layout()\n",
    "\n",
    "plt.savefig('베트남코로나이전방문객수.png')\n",
    "plt.show()"
   ]
  },
  {
   "cell_type": "code",
   "execution_count": null,
   "metadata": {},
   "outputs": [],
   "source": [
    "sns.barplot(data = vietnam_next_covid, x='date', y='베트남_명수', edgecolor=['b' if x == '2022년5월' else 'w' for x in vietnam_next_covid['date']])\n",
    "plt.xlabel('월별')\n",
    "plt.ylabel('방문객 수')\n",
    "plt.title('코로나 전/후 방문객 수 비교', pad=10, fontweight='bold')\n",
    "plt.xticks(rotation=45)\n",
    "plt.tight_layout()\n",
    "\n",
    "plt.savefig('베트남코로나이후방문객수.png')\n",
    "plt.show()"
   ]
  },
  {
   "cell_type": "code",
   "execution_count": null,
   "metadata": {},
   "outputs": [],
   "source": []
  }
 ],
 "metadata": {
  "kernelspec": {
   "display_name": "Python 3",
   "language": "python",
   "name": "python3"
  },
  "language_info": {
   "codemirror_mode": {
    "name": "ipython",
    "version": 3
   },
   "file_extension": ".py",
   "mimetype": "text/x-python",
   "name": "python",
   "nbconvert_exporter": "python",
   "pygments_lexer": "ipython3",
   "version": "3.10.12"
  },
  "orig_nbformat": 4
 },
 "nbformat": 4,
 "nbformat_minor": 2
}
