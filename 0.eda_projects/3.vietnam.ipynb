{
 "cells": [
  {
   "cell_type": "code",
   "execution_count": null,
   "metadata": {},
   "outputs": [],
   "source": [
    "%load_ext autoreload\n",
    "%autoreload 2"
   ]
  },
  {
   "cell_type": "code",
   "execution_count": null,
   "metadata": {},
   "outputs": [],
   "source": [
    "# data columns\n",
    "\n",
    "# videoId,\n",
    "# title,\n",
    "# description,\n",
    "# tags,\n",
    "# viewCount,\n",
    "# likeCount,\n",
    "# favoriteCount,\n",
    "# commentCount,\n",
    "# publishedAt,\n",
    "# channelId,\n",
    "# channelTitle,\n",
    "# country\n",
    "\n",
    "use_columns = ['videoId', 'title', 'description', 'tags', 'viewCount', 'likeCount', 'favoriteCount', 'commentCount', 'publishedAt', 'channelId', 'channelTitle', 'country']\n"
   ]
  },
  {
   "cell_type": "code",
   "execution_count": null,
   "metadata": {},
   "outputs": [],
   "source": [
    "import json\n",
    "import pandas as pd\n",
    "import numpy as np\n",
    "from urllib import parse\n",
    "import requests\n",
    "from youtubeapi import YoutubeApi\n",
    "from utils import *\n",
    "from bs4 import BeautifulSoup\n",
    "import matplotlib.pyplot as plt\n",
    "import seaborn as sns\n",
    "\n",
    "email = 'shockzinfinity@gmail.com'\n",
    "url = 'https://youtube.googleapis.com/youtube/v3/'\n",
    "\n",
    "api = YoutubeApi(apiKey, use_columns)\n",
    "\n",
    "searchQuery = '코이티비 베트남'\n",
    "# maxResults = 15"
   ]
  },
  {
   "cell_type": "code",
   "execution_count": null,
   "metadata": {},
   "outputs": [],
   "source": [
    "datas = api.search_videos(searchQuery)\n",
    "df = api.get_video_dataframe(datas, '베트남')\n",
    "df"
   ]
  },
  {
   "cell_type": "code",
   "execution_count": null,
   "metadata": {},
   "outputs": [],
   "source": [
    "df.info()"
   ]
  },
  {
   "cell_type": "code",
   "execution_count": null,
   "metadata": {},
   "outputs": [],
   "source": [
    "df.to_csv('./data/vietnam_youtube.csv', encoding='utf-8', index=False)"
   ]
  },
  {
   "cell_type": "code",
   "execution_count": null,
   "metadata": {},
   "outputs": [],
   "source": [
    "asia_data = pd.read_csv('./data/asia_data_kor.csv')\n",
    "asia_data['Year'].fillna(method='ffill', inplace=True)\n",
    "asia_data"
   ]
  },
  {
   "cell_type": "code",
   "execution_count": null,
   "metadata": {},
   "outputs": [],
   "source": [
    "year = df.loc[0, 'publishedAtYear']\n",
    "month = df.loc[0, 'publishedAtMonth']\n",
    "\n",
    "display(year, month)"
   ]
  },
  {
   "cell_type": "code",
   "execution_count": null,
   "metadata": {},
   "outputs": [],
   "source": [
    "# 해당 동영상 년/월 의 방문자 수\n",
    "masking = (asia_data['Year'] == (str(year) + '년')) & (asia_data['month'] == (str(month) + '월'))\n",
    "published_asia_data = asia_data[masking]\n",
    "display(published_asia_data)\n",
    "\n",
    "# 해당 동영상 1년 전/후 의 방문자 수\n",
    "prev_masking = (asia_data['Year'] == (str(year - 1) + '년')) & (asia_data['month'] == (str(month) + '월'))\n",
    "prev_asia_data = asia_data[prev_masking]\n",
    "display(prev_asia_data)\n",
    "\n",
    "next_masking = (asia_data['Year'] == (str(year + 1) + '년')) & (asia_data['month'] == (str(month) + '월'))\n",
    "next_asia_data = asia_data[next_masking]\n",
    "display(next_asia_data)\n"
   ]
  },
  {
   "cell_type": "code",
   "execution_count": null,
   "metadata": {},
   "outputs": [],
   "source": [
    "idx_pub = published_asia_data.index.values[0]\n",
    "\n",
    "prev_idx = prev_asia_data.index.values[0]\n",
    "next_idx = next_asia_data.index.values[0]\n",
    "\n",
    "# prev_period = asia_data.iloc[prev_idx:idx_pub+1, :]\n",
    "prev_period = asia_data.iloc[prev_idx:idx_pub+1, asia_data.columns.get_loc('베트남_명수')]\n",
    "display(prev_period)\n",
    "# next_period = asia_data.iloc[idx_pub:next_idx+1, :]\n",
    "next_period = asia_data.iloc[idx_pub:next_idx+1, asia_data.columns.get_loc('베트남_명수')]\n",
    "display(next_period)\n"
   ]
  },
  {
   "cell_type": "code",
   "execution_count": null,
   "metadata": {},
   "outputs": [],
   "source": [
    "sns.lineplot(data=prev_period)"
   ]
  },
  {
   "cell_type": "code",
   "execution_count": null,
   "metadata": {},
   "outputs": [],
   "source": []
  }
 ],
 "metadata": {
  "kernelspec": {
   "display_name": "Python 3",
   "language": "python",
   "name": "python3"
  },
  "language_info": {
   "codemirror_mode": {
    "name": "ipython",
    "version": 3
   },
   "file_extension": ".py",
   "mimetype": "text/x-python",
   "name": "python",
   "nbconvert_exporter": "python",
   "pygments_lexer": "ipython3",
   "version": "3.10.12"
  },
  "orig_nbformat": 4
 },
 "nbformat": 4,
 "nbformat_minor": 2
}
