{
 "cells": [
  {
   "cell_type": "code",
   "execution_count": null,
   "metadata": {},
   "outputs": [],
   "source": [
    "%load_ext autoreload\n",
    "%autoreload 2"
   ]
  },
  {
   "cell_type": "code",
   "execution_count": null,
   "metadata": {},
   "outputs": [],
   "source": [
    "# data columns\n",
    "\n",
    "# videoId,\n",
    "# title,\n",
    "# description,\n",
    "# tags,\n",
    "# viewCount,\n",
    "# likeCount,\n",
    "# favoriteCount,\n",
    "# commentCount,\n",
    "# publishedAt,\n",
    "# channelId,\n",
    "# channelTitle,\n",
    "# country\n",
    "\n",
    "use_columns = ['videoId', 'title', 'description', 'tags', 'viewCount', 'likeCount', 'favoriteCount', 'commentCount', 'publishedAt', 'channelId', 'channelTitle', 'country']\n"
   ]
  },
  {
   "cell_type": "code",
   "execution_count": null,
   "metadata": {},
   "outputs": [],
   "source": [
    "from dotenv import load_dotenv\n",
    "import os\n",
    "import sys\n",
    "import pandas as pd\n",
    "import numpy as np\n",
    "from youtubeapi import YoutubeApi\n",
    "import matplotlib.pyplot as plt\n",
    "import seaborn as sns\n",
    "import matplotlib\n",
    "import matplotlib.font_manager as fm\n",
    "# sys.path.append('../refs/')\n",
    "# from utils import Utils\n",
    "from utils import utils\n",
    "\n",
    "# font setting\n",
    "font_location = 'C:/Windows/Fonts/Malgun.ttf' if sys.platform == 'win32' else '/System/Library/Fonts/AppleSDGothicNeo.ttc'\n",
    "font_name = fm.FontProperties(fname=font_location).get_name()\n",
    "# print(font_name)\n",
    "matplotlib.rc('font', family=font_name)\n",
    "\n",
    "load_dotenv()\n",
    "apiKey = os.environ.get('YoutubeApiToken')\n",
    "url = 'https://youtube.googleapis.com/youtube/v3/'\n",
    "\n",
    "api = YoutubeApi(apiKey, use_columns)"
   ]
  },
  {
   "cell_type": "code",
   "execution_count": null,
   "metadata": {},
   "outputs": [],
   "source": [
    "asia_data = pd.read_csv('../data/asia_data_kor.csv')\n",
    "asia_data['Year'].fillna(method='ffill', inplace=True)\n",
    "# asia_data"
   ]
  },
  {
   "cell_type": "code",
   "execution_count": null,
   "metadata": {},
   "outputs": [],
   "source": [
    "# 코로나 이전 기준 2019년 11월\n",
    "before_start_date = '2018년12월'\n",
    "before_end_date = '2019년11월'\n",
    "\n",
    "# 코로나 이후 기준 2023년 5월 (데이터가 수집된 마지막 기준) 부터 1년\n",
    "after_start_date = '2022년6월'\n",
    "after_end_date = '2023년5월'\n",
    "\n",
    "# 국가\n",
    "countries = ['일본', '베트남', '대만', '홍콩', '필리핀', '태국']"
   ]
  },
  {
   "cell_type": "code",
   "execution_count": null,
   "metadata": {},
   "outputs": [],
   "source": [
    "asia_data['date'] = asia_data['Year'] + asia_data['month']\n",
    "asia_data"
   ]
  },
  {
   "cell_type": "code",
   "execution_count": null,
   "metadata": {},
   "outputs": [],
   "source": [
    "results = pd.DataFrame()\n",
    "\n",
    "# 각 국가별 loop\n",
    "for country in countries:\n",
    "  # 코로나 이전 (2018년12월 ~ 2019년11월)\n",
    "  before = utils.get_dataframe_by_period2(asia_data, before_start_date, before_end_date, country)\n",
    "  # 코로나 이후 (2022년6월 ~ 2023년5월)\n",
    "  after = utils.get_dataframe_by_period2(asia_data, after_start_date, after_end_date, country)\n",
    "  \n",
    "  temp1 = before.loc[before['count'].idxmax()].to_frame().T\n",
    "  temp1 = temp1.reset_index(drop=False)\n",
    "  temp1 = temp1.rename({'index': 'before_max_index', 'count': 'before_max_count', 'date': 'before_max_date'}, axis=1)\n",
    "  \n",
    "  temp2 = after.loc[after['count'].idxmax()].to_frame().T\n",
    "  temp2 = temp2.reset_index(drop=False)\n",
    "  temp2 = temp2.rename({'index': 'after_max_index', 'count': 'after_max_count', 'date': 'after_max_date'}, axis=1)\n",
    "  \n",
    "  temp3 = pd.Series(country).to_frame().T\n",
    "  \n",
    "  result = pd.concat([temp3, temp1, temp2], axis=1)\n",
    "  result = result.rename({0: 'country'}, axis=1)\n",
    "  result\n",
    "  \n",
    "  results = pd.concat([results, result])\n",
    "\n",
    "results.to_csv('../data/countries_max.csv', encoding='utf-8-sig')\n"
   ]
  },
  {
   "cell_type": "code",
   "execution_count": null,
   "metadata": {},
   "outputs": [],
   "source": [
    "# 코로나 이전 (2018년12월 ~ 2019년11월)\n",
    "before = utils.get_dataframe_by_period2(asia_data, before_start_date, before_end_date, countries[0])\n",
    "# display(before)\n",
    "\n",
    "# 코로나 이후 (2022년6월 ~ 2023년5월)\n",
    "after = utils.get_dataframe_by_period2(asia_data, after_start_date, after_end_date, countries[0])\n",
    "# display(after)"
   ]
  },
  {
   "cell_type": "code",
   "execution_count": null,
   "metadata": {},
   "outputs": [],
   "source": [
    "temp1 = before.loc[before['count'].idxmax()].to_frame().T\n",
    "temp1 = temp1.reset_index(drop=False)\n",
    "temp1 = temp1.rename({'index': 'before_max_index', 'count': 'before_max_count', 'date': 'before_max_date'}, axis=1)\n",
    "temp1"
   ]
  },
  {
   "cell_type": "code",
   "execution_count": null,
   "metadata": {},
   "outputs": [],
   "source": [
    "temp2 = after.loc[after['count'].idxmax()].to_frame().T\n",
    "temp2 = temp2.reset_index(drop=False)\n",
    "temp2 = temp2.rename({'index': 'after_max_index', 'count': 'after_max_count', 'date': 'after_max_date'}, axis=1)\n",
    "temp2"
   ]
  },
  {
   "cell_type": "code",
   "execution_count": null,
   "metadata": {},
   "outputs": [],
   "source": [
    "temp3 = pd.Series('일본').to_frame().T\n",
    "temp3"
   ]
  },
  {
   "cell_type": "code",
   "execution_count": null,
   "metadata": {},
   "outputs": [],
   "source": [
    "result = pd.concat([temp3, temp1, temp2], axis=1)\n",
    "result = result.rename({0: 'country'}, axis=1)\n",
    "result"
   ]
  },
  {
   "cell_type": "code",
   "execution_count": null,
   "metadata": {},
   "outputs": [],
   "source": [
    "xxtemp = before.loc[before['count'].idxmax()]\n",
    "xxtemp = xxtemp.rename({'count': 'before_max_count', 'date': 'before_max_date'})\n",
    "xxtemp = xxtemp.rename('index')\n",
    "xxtemp"
   ]
  },
  {
   "cell_type": "code",
   "execution_count": null,
   "metadata": {},
   "outputs": [],
   "source": [
    "temp1 = before.loc[before['count'].idxmax()]\n",
    "temp1 = temp1.rename({'count': 'before_max_count', 'date': 'before_max_date'})\n",
    "temp1 = temp1.reset_index(name='values')\n",
    "display(temp1)\n",
    "\n",
    "temp2 = after.loc[after['count'].idxmax()]\n",
    "temp2 = temp2.rename({'count': 'after_max_count', 'date': 'after_max_date'})\n",
    "temp2 = temp2.reset_index(name='values')\n",
    "display(temp2)\n",
    "\n",
    "temp3 = pd.Series('일본')\n",
    "temp3.reset_index(name='values')\n",
    "display(temp3)\n",
    "\n",
    "pd.concat([temp3, temp1, temp2], axis=1)"
   ]
  },
  {
   "cell_type": "code",
   "execution_count": null,
   "metadata": {},
   "outputs": [],
   "source": [
    "results = []\n",
    "\n",
    "results.append(pd.concat([temp3, temp1, temp2], axis=1))\n",
    "\n",
    "results = pd.DataFrame(results)\n",
    "results"
   ]
  },
  {
   "cell_type": "code",
   "execution_count": null,
   "metadata": {},
   "outputs": [],
   "source": []
  }
 ],
 "metadata": {
  "kernelspec": {
   "display_name": "bootcamp",
   "language": "python",
   "name": "python3"
  },
  "language_info": {
   "codemirror_mode": {
    "name": "ipython",
    "version": 3
   },
   "file_extension": ".py",
   "mimetype": "text/x-python",
   "name": "python",
   "nbconvert_exporter": "python",
   "pygments_lexer": "ipython3",
   "version": "3.10.12"
  },
  "orig_nbformat": 4
 },
 "nbformat": 4,
 "nbformat_minor": 2
}
